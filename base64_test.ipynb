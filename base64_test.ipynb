{
 "cells": [
  {
   "cell_type": "code",
   "execution_count": 1,
   "metadata": {},
   "outputs": [],
   "source": [
    "import base64"
   ]
  },
  {
   "cell_type": "code",
   "execution_count": 2,
   "metadata": {},
   "outputs": [
    {
     "name": "stdout",
     "output_type": "stream",
     "text": [
      "<class '_io.BufferedReader'>\n"
     ]
    },
    {
     "data": {
      "text/plain": [
       "<_io.BufferedReader name='./img/classic_nn.svg'>"
      ]
     },
     "execution_count": 2,
     "metadata": {},
     "output_type": "execute_result"
    }
   ],
   "source": [
    "image = open('./img/classic_nn.svg', 'rb')\n",
    "print(type(image))\n",
    "image"
   ]
  },
  {
   "cell_type": "code",
   "execution_count": 3,
   "metadata": {},
   "outputs": [
    {
     "name": "stdout",
     "output_type": "stream",
     "text": [
      "<class 'bytes'>\n"
     ]
    },
    {
     "data": {
      "text/plain": [
       "b'<?xml version=\"1.0\" encoding=\"utf-8\"?>\\n<!-- Generator: Adobe Illustrator 25.4.0, SVG Export Plug-In . SVG Version: 6.00 Build 0)  -->\\n<svg version=\"1.1\" id=\"Layer_1\" xmlns=\"http://www.w3.org/2000/svg\" xmlns:xlink=\"http://www.w3.org/1999/xlink\" x=\"0px\" y=\"0px\"\\n\\t viewBox=\"0 0 131.3 86.1\" style=\"enable-background:new 0 0 131.3 86.1;\" xml:space=\"preserve\">\\n<style type=\"text/css\">\\n\\t.st0{fill:none;stroke:#231F20;stroke-width:0.5;stroke-miterlimit:10;}\\n\\t.st1{fill:#FFFFFF;stroke:#2BB673;stroke-miterlimit:10;}\\n\\t.st2{fill:#FFFFFF;stroke:#0000FF;stroke-miterlimit:10;}\\n\\t.st3{fill:#FFFFFF;stroke:#231F20;stroke-miterlimit:10;}\\n</style>\\n<g>\\n\\t<line class=\"st0\" x1=\"90.9\" y1=\"5.9\" x2=\"120.2\" y2=\"35.5\"/>\\n\\t<line class=\"st0\" x1=\"90.9\" y1=\"20.7\" x2=\"120.2\" y2=\"35.5\"/>\\n\\t<line class=\"st0\" x1=\"90.9\" y1=\"35.5\" x2=\"120.2\" y2=\"35.5\"/>\\n\\t<line class=\"st0\" x1=\"90.9\" y1=\"50.3\" x2=\"120.2\" y2=\"35.5\"/>\\n\\t<line class=\"st0\" x1=\"90.9\" y1=\"65.2\" x2=\"120.2\" y2=\"35.5\"/>\\n\\t<line class=\"st0\" x1=\"90.9\" y1=\"80\" x2=\"120.2\" y2=\"35.5\"/>\\n</g>\\n<g>\\n\\t<line class=\"st0\" x1=\"90.9\" y1=\"80\" x2=\"120.2\" y2=\"50.3\"/>\\n\\t<line class=\"st0\" x1=\"90.9\" y1=\"65.2\" x2=\"120.2\" y2=\"50.3\"/>\\n\\t<line class=\"st0\" x1=\"90.9\" y1=\"50.3\" x2=\"120.2\" y2=\"50.3\"/>\\n\\t<line class=\"st0\" x1=\"90.9\" y1=\"35.5\" x2=\"120.2\" y2=\"50.3\"/>\\n\\t<line class=\"st0\" x1=\"90.9\" y1=\"20.7\" x2=\"120.2\" y2=\"50.3\"/>\\n\\t<line class=\"st0\" x1=\"90.9\" y1=\"5.9\" x2=\"120.2\" y2=\"50.3\"/>\\n</g>\\n<g>\\n\\t<line class=\"st0\" x1=\"50.4\" y1=\"5.9\" x2=\"80.8\" y2=\"5.9\"/>\\n\\t<line class=\"st0\" x1=\"80.8\" y1=\"20.7\" x2=\"50.4\" y2=\"5.9\"/>\\n\\t<line class=\"st0\" x1=\"80.8\" y1=\"35.5\" x2=\"50.4\" y2=\"5.9\"/>\\n\\t<line class=\"st0\" x1=\"80.8\" y1=\"50.3\" x2=\"50.4\" y2=\"5.9\"/>\\n\\t<line class=\"st0\" x1=\"80.8\" y1=\"65.2\" x2=\"50.4\" y2=\"5.9\"/>\\n\\t<line class=\"st0\" x1=\"80.8\" y1=\"80\" x2=\"50.4\" y2=\"5.9\"/>\\n\\t<line class=\"st0\" x1=\"50.4\" y1=\"20.7\" x2=\"80.8\" y2=\"5.9\"/>\\n\\t<line class=\"st0\" x1=\"80.8\" y1=\"20.7\" x2=\"50.4\" y2=\"20.7\"/>\\n\\t<line class=\"st0\" x1=\"80.8\" y1=\"35.5\" x2=\"50.4\" y2=\"20.7\"/>\\n\\t<line class=\"st0\" x1=\"80.8\" y1=\"50.3\" x2=\"50.4\" y2=\"20.7\"/>\\n\\t<line class=\"st0\" x1=\"80.8\" y1=\"65.2\" x2=\"50.4\" y2=\"20.7\"/>\\n\\t<line class=\"st0\" x1=\"80.8\" y1=\"80\" x2=\"50.4\" y2=\"20.7\"/>\\n\\t<line class=\"st0\" x1=\"50.4\" y1=\"35.5\" x2=\"80.8\" y2=\"5.9\"/>\\n\\t<line class=\"st0\" x1=\"80.8\" y1=\"20.7\" x2=\"50.4\" y2=\"35.5\"/>\\n\\t<line class=\"st0\" x1=\"80.8\" y1=\"35.5\" x2=\"50.4\" y2=\"35.5\"/>\\n\\t<line class=\"st0\" x1=\"80.8\" y1=\"50.3\" x2=\"50.4\" y2=\"35.5\"/>\\n\\t<line class=\"st0\" x1=\"80.8\" y1=\"65.2\" x2=\"50.4\" y2=\"35.5\"/>\\n\\t<line class=\"st0\" x1=\"80.8\" y1=\"80\" x2=\"50.4\" y2=\"35.5\"/>\\n</g>\\n<g>\\n\\t<line class=\"st0\" x1=\"50.4\" y1=\"80\" x2=\"80.8\" y2=\"80\"/>\\n\\t<line class=\"st0\" x1=\"80.8\" y1=\"65.2\" x2=\"50.4\" y2=\"80\"/>\\n\\t<line class=\"st0\" x1=\"80.8\" y1=\"50.3\" x2=\"50.4\" y2=\"80\"/>\\n\\t<line class=\"st0\" x1=\"80.8\" y1=\"35.5\" x2=\"50.4\" y2=\"80\"/>\\n\\t<line class=\"st0\" x1=\"80.8\" y1=\"20.7\" x2=\"50.4\" y2=\"80\"/>\\n\\t<line class=\"st0\" x1=\"80.8\" y1=\"5.9\" x2=\"50.4\" y2=\"80\"/>\\n\\t<line class=\"st0\" x1=\"50.4\" y1=\"65.2\" x2=\"80.8\" y2=\"80\"/>\\n\\t<line class=\"st0\" x1=\"80.8\" y1=\"65.2\" x2=\"50.4\" y2=\"65.2\"/>\\n\\t<line class=\"st0\" x1=\"80.8\" y1=\"50.3\" x2=\"50.4\" y2=\"65.2\"/>\\n\\t<line class=\"st0\" x1=\"80.8\" y1=\"35.5\" x2=\"50.4\" y2=\"65.2\"/>\\n\\t<line class=\"st0\" x1=\"80.8\" y1=\"20.7\" x2=\"50.4\" y2=\"65.2\"/>\\n\\t<line class=\"st0\" x1=\"80.8\" y1=\"5.9\" x2=\"50.4\" y2=\"65.2\"/>\\n\\t<line class=\"st0\" x1=\"50.4\" y1=\"50.3\" x2=\"80.8\" y2=\"80\"/>\\n\\t<line class=\"st0\" x1=\"80.8\" y1=\"65.2\" x2=\"50.4\" y2=\"50.3\"/>\\n\\t<line class=\"st0\" x1=\"80.8\" y1=\"50.3\" x2=\"50.4\" y2=\"50.3\"/>\\n\\t<line class=\"st0\" x1=\"80.8\" y1=\"35.5\" x2=\"50.4\" y2=\"50.3\"/>\\n\\t<line class=\"st0\" x1=\"80.8\" y1=\"20.7\" x2=\"50.4\" y2=\"50.3\"/>\\n\\t<line class=\"st0\" x1=\"80.8\" y1=\"5.9\" x2=\"50.4\" y2=\"50.3\"/>\\n</g>\\n<g>\\n\\t<line class=\"st0\" x1=\"11\" y1=\"20.7\" x2=\"40.3\" y2=\"5.9\"/>\\n\\t<line class=\"st0\" x1=\"11\" y1=\"35.5\" x2=\"40.3\" y2=\"5.9\"/>\\n\\t<line class=\"st0\" x1=\"11\" y1=\"20.7\" x2=\"40.3\" y2=\"20.7\"/>\\n\\t<line class=\"st0\" x1=\"40.3\" y1=\"35.5\" x2=\"11\" y2=\"20.7\"/>\\n\\t<line class=\"st0\" x1=\"40.3\" y1=\"50.3\" x2=\"11\" y2=\"20.7\"/>\\n\\t<line class=\"st0\" x1=\"40.3\" y1=\"65.2\" x2=\"11\" y2=\"20.7\"/>\\n\\t<line class=\"st0\" x1=\"40.3\" y1=\"80\" x2=\"11\" y2=\"20.7\"/>\\n\\t<line class=\"st0\" x1=\"40.3\" y1=\"20.7\" x2=\"11\" y2=\"35.5\"/>\\n\\t<line class=\"st0\" x1=\"40.3\" y1=\"35.5\" x2=\"11\" y2=\"35.5\"/>\\n\\t<line class=\"st0\" x1=\"40.3\" y1=\"50.3\" x2=\"11\" y2=\"35.5\"/>\\n\\t<line class=\"st0\" x1=\"40.3\" y1=\"65.2\" x2=\"11\" y2=\"35.5\"/>\\n\\t<line class=\"st0\" x1=\"40.3\" y1=\"80\" x2=\"11\" y2=\"35.5\"/>\\n</g>\\n<g>\\n\\t<line class=\"st0\" x1=\"11\" y1=\"65.2\" x2=\"40.3\" y2=\"80\"/>\\n\\t<line class=\"st0\" x1=\"11\" y1=\"50.3\" x2=\"40.3\" y2=\"80\"/>\\n\\t<line class=\"st0\" x1=\"11\" y1=\"65.2\" x2=\"40.3\" y2=\"65.2\"/>\\n\\t<line class=\"st0\" x1=\"40.3\" y1=\"50.3\" x2=\"11\" y2=\"65.2\"/>\\n\\t<line class=\"st0\" x1=\"40.3\" y1=\"35.5\" x2=\"11\" y2=\"65.2\"/>\\n\\t<line class=\"st0\" x1=\"40.3\" y1=\"20.7\" x2=\"11\" y2=\"65.2\"/>\\n\\t<line class=\"st0\" x1=\"40.3\" y1=\"5.9\" x2=\"11\" y2=\"65.2\"/>\\n\\t<line class=\"st0\" x1=\"40.3\" y1=\"65.2\" x2=\"11\" y2=\"50.3\"/>\\n\\t<line class=\"st0\" x1=\"40.3\" y1=\"50.3\" x2=\"11\" y2=\"50.3\"/>\\n\\t<line class=\"st0\" x1=\"40.3\" y1=\"35.5\" x2=\"11\" y2=\"50.3\"/>\\n\\t<line class=\"st0\" x1=\"40.3\" y1=\"20.7\" x2=\"11\" y2=\"50.3\"/>\\n\\t<line class=\"st0\" x1=\"40.3\" y1=\"5.9\" x2=\"11\" y2=\"50.3\"/>\\n</g>\\n<circle class=\"st1\" cx=\"125.3\" cy=\"35.5\" r=\"5.1\"/>\\n<circle class=\"st1\" cx=\"125.3\" cy=\"50.3\" r=\"5.1\"/>\\n<circle class=\"st2\" cx=\"5.9\" cy=\"20.7\" r=\"5.1\"/>\\n<circle class=\"st2\" cx=\"5.9\" cy=\"35.5\" r=\"5.1\"/>\\n<circle class=\"st2\" cx=\"5.9\" cy=\"50.3\" r=\"5.1\"/>\\n<circle class=\"st2\" cx=\"5.9\" cy=\"65.2\" r=\"5.1\"/>\\n<circle class=\"st3\" cx=\"45.4\" cy=\"20.7\" r=\"5.1\"/>\\n<circle class=\"st3\" cx=\"45.4\" cy=\"35.5\" r=\"5.1\"/>\\n<circle class=\"st3\" cx=\"45.4\" cy=\"5.9\" r=\"5.1\"/>\\n<circle class=\"st3\" cx=\"45.4\" cy=\"50.3\" r=\"5.1\"/>\\n<circle class=\"st3\" cx=\"45.4\" cy=\"65.2\" r=\"5.1\"/>\\n<circle class=\"st3\" cx=\"45.4\" cy=\"80\" r=\"5.1\"/>\\n<circle class=\"st3\" cx=\"85.8\" cy=\"20.7\" r=\"5.1\"/>\\n<circle class=\"st3\" cx=\"85.8\" cy=\"35.5\" r=\"5.1\"/>\\n<circle class=\"st3\" cx=\"85.8\" cy=\"5.9\" r=\"5.1\"/>\\n<circle class=\"st3\" cx=\"85.8\" cy=\"50.3\" r=\"5.1\"/>\\n<circle class=\"st3\" cx=\"85.8\" cy=\"65.2\" r=\"5.1\"/>\\n<circle class=\"st3\" cx=\"85.8\" cy=\"80\" r=\"5.1\"/>\\n</svg>\\n'"
      ]
     },
     "execution_count": 3,
     "metadata": {},
     "output_type": "execute_result"
    }
   ],
   "source": [
    "image_read = image.read()\n",
    "print(type(image_read))\n",
    "image_read"
   ]
  },
  {
   "cell_type": "code",
   "execution_count": 7,
   "metadata": {},
   "outputs": [
    {
     "name": "stdout",
     "output_type": "stream",
     "text": [
      "<class 'bytes'>\n"
     ]
    },
    {
     "data": {
      "text/plain": [
       "b'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'"
      ]
     },
     "execution_count": 7,
     "metadata": {},
     "output_type": "execute_result"
    }
   ],
   "source": [
    "image_64_encode = base64.b64encode(image_read)\n",
    "print(type(image_64_encode))\n",
    "image_64_encode"
   ]
  },
  {
   "cell_type": "code",
   "execution_count": 8,
   "metadata": {},
   "outputs": [
    {
     "name": "stdout",
     "output_type": "stream",
     "text": [
      "<class 'bytes'>\n"
     ]
    },
    {
     "data": {
      "text/plain": [
       "b'<?xml version=\"1.0\" encoding=\"utf-8\"?>\\n<!-- Generator: Adobe Illustrator 25.4.0, SVG Export Plug-In . SVG Version: 6.00 Build 0)  -->\\n<svg version=\"1.1\" id=\"Layer_1\" xmlns=\"http://www.w3.org/2000/svg\" xmlns:xlink=\"http://www.w3.org/1999/xlink\" x=\"0px\" y=\"0px\"\\n\\t viewBox=\"0 0 131.3 86.1\" style=\"enable-background:new 0 0 131.3 86.1;\" xml:space=\"preserve\">\\n<style type=\"text/css\">\\n\\t.st0{fill:none;stroke:#231F20;stroke-width:0.5;stroke-miterlimit:10;}\\n\\t.st1{fill:#FFFFFF;stroke:#2BB673;stroke-miterlimit:10;}\\n\\t.st2{fill:#FFFFFF;stroke:#0000FF;stroke-miterlimit:10;}\\n\\t.st3{fill:#FFFFFF;stroke:#231F20;stroke-miterlimit:10;}\\n</style>\\n<g>\\n\\t<line class=\"st0\" x1=\"90.9\" y1=\"5.9\" x2=\"120.2\" y2=\"35.5\"/>\\n\\t<line class=\"st0\" x1=\"90.9\" y1=\"20.7\" x2=\"120.2\" y2=\"35.5\"/>\\n\\t<line class=\"st0\" x1=\"90.9\" y1=\"35.5\" x2=\"120.2\" y2=\"35.5\"/>\\n\\t<line class=\"st0\" x1=\"90.9\" y1=\"50.3\" x2=\"120.2\" y2=\"35.5\"/>\\n\\t<line class=\"st0\" x1=\"90.9\" y1=\"65.2\" x2=\"120.2\" y2=\"35.5\"/>\\n\\t<line class=\"st0\" x1=\"90.9\" y1=\"80\" x2=\"120.2\" y2=\"35.5\"/>\\n</g>\\n<g>\\n\\t<line class=\"st0\" x1=\"90.9\" y1=\"80\" x2=\"120.2\" y2=\"50.3\"/>\\n\\t<line class=\"st0\" x1=\"90.9\" y1=\"65.2\" x2=\"120.2\" y2=\"50.3\"/>\\n\\t<line class=\"st0\" x1=\"90.9\" y1=\"50.3\" x2=\"120.2\" y2=\"50.3\"/>\\n\\t<line class=\"st0\" x1=\"90.9\" y1=\"35.5\" x2=\"120.2\" y2=\"50.3\"/>\\n\\t<line class=\"st0\" x1=\"90.9\" y1=\"20.7\" x2=\"120.2\" y2=\"50.3\"/>\\n\\t<line class=\"st0\" x1=\"90.9\" y1=\"5.9\" x2=\"120.2\" y2=\"50.3\"/>\\n</g>\\n<g>\\n\\t<line class=\"st0\" x1=\"50.4\" y1=\"5.9\" x2=\"80.8\" y2=\"5.9\"/>\\n\\t<line class=\"st0\" x1=\"80.8\" y1=\"20.7\" x2=\"50.4\" y2=\"5.9\"/>\\n\\t<line class=\"st0\" x1=\"80.8\" y1=\"35.5\" x2=\"50.4\" y2=\"5.9\"/>\\n\\t<line class=\"st0\" x1=\"80.8\" y1=\"50.3\" x2=\"50.4\" y2=\"5.9\"/>\\n\\t<line class=\"st0\" x1=\"80.8\" y1=\"65.2\" x2=\"50.4\" y2=\"5.9\"/>\\n\\t<line class=\"st0\" x1=\"80.8\" y1=\"80\" x2=\"50.4\" y2=\"5.9\"/>\\n\\t<line class=\"st0\" x1=\"50.4\" y1=\"20.7\" x2=\"80.8\" y2=\"5.9\"/>\\n\\t<line class=\"st0\" x1=\"80.8\" y1=\"20.7\" x2=\"50.4\" y2=\"20.7\"/>\\n\\t<line class=\"st0\" x1=\"80.8\" y1=\"35.5\" x2=\"50.4\" y2=\"20.7\"/>\\n\\t<line class=\"st0\" x1=\"80.8\" y1=\"50.3\" x2=\"50.4\" y2=\"20.7\"/>\\n\\t<line class=\"st0\" x1=\"80.8\" y1=\"65.2\" x2=\"50.4\" y2=\"20.7\"/>\\n\\t<line class=\"st0\" x1=\"80.8\" y1=\"80\" x2=\"50.4\" y2=\"20.7\"/>\\n\\t<line class=\"st0\" x1=\"50.4\" y1=\"35.5\" x2=\"80.8\" y2=\"5.9\"/>\\n\\t<line class=\"st0\" x1=\"80.8\" y1=\"20.7\" x2=\"50.4\" y2=\"35.5\"/>\\n\\t<line class=\"st0\" x1=\"80.8\" y1=\"35.5\" x2=\"50.4\" y2=\"35.5\"/>\\n\\t<line class=\"st0\" x1=\"80.8\" y1=\"50.3\" x2=\"50.4\" y2=\"35.5\"/>\\n\\t<line class=\"st0\" x1=\"80.8\" y1=\"65.2\" x2=\"50.4\" y2=\"35.5\"/>\\n\\t<line class=\"st0\" x1=\"80.8\" y1=\"80\" x2=\"50.4\" y2=\"35.5\"/>\\n</g>\\n<g>\\n\\t<line class=\"st0\" x1=\"50.4\" y1=\"80\" x2=\"80.8\" y2=\"80\"/>\\n\\t<line class=\"st0\" x1=\"80.8\" y1=\"65.2\" x2=\"50.4\" y2=\"80\"/>\\n\\t<line class=\"st0\" x1=\"80.8\" y1=\"50.3\" x2=\"50.4\" y2=\"80\"/>\\n\\t<line class=\"st0\" x1=\"80.8\" y1=\"35.5\" x2=\"50.4\" y2=\"80\"/>\\n\\t<line class=\"st0\" x1=\"80.8\" y1=\"20.7\" x2=\"50.4\" y2=\"80\"/>\\n\\t<line class=\"st0\" x1=\"80.8\" y1=\"5.9\" x2=\"50.4\" y2=\"80\"/>\\n\\t<line class=\"st0\" x1=\"50.4\" y1=\"65.2\" x2=\"80.8\" y2=\"80\"/>\\n\\t<line class=\"st0\" x1=\"80.8\" y1=\"65.2\" x2=\"50.4\" y2=\"65.2\"/>\\n\\t<line class=\"st0\" x1=\"80.8\" y1=\"50.3\" x2=\"50.4\" y2=\"65.2\"/>\\n\\t<line class=\"st0\" x1=\"80.8\" y1=\"35.5\" x2=\"50.4\" y2=\"65.2\"/>\\n\\t<line class=\"st0\" x1=\"80.8\" y1=\"20.7\" x2=\"50.4\" y2=\"65.2\"/>\\n\\t<line class=\"st0\" x1=\"80.8\" y1=\"5.9\" x2=\"50.4\" y2=\"65.2\"/>\\n\\t<line class=\"st0\" x1=\"50.4\" y1=\"50.3\" x2=\"80.8\" y2=\"80\"/>\\n\\t<line class=\"st0\" x1=\"80.8\" y1=\"65.2\" x2=\"50.4\" y2=\"50.3\"/>\\n\\t<line class=\"st0\" x1=\"80.8\" y1=\"50.3\" x2=\"50.4\" y2=\"50.3\"/>\\n\\t<line class=\"st0\" x1=\"80.8\" y1=\"35.5\" x2=\"50.4\" y2=\"50.3\"/>\\n\\t<line class=\"st0\" x1=\"80.8\" y1=\"20.7\" x2=\"50.4\" y2=\"50.3\"/>\\n\\t<line class=\"st0\" x1=\"80.8\" y1=\"5.9\" x2=\"50.4\" y2=\"50.3\"/>\\n</g>\\n<g>\\n\\t<line class=\"st0\" x1=\"11\" y1=\"20.7\" x2=\"40.3\" y2=\"5.9\"/>\\n\\t<line class=\"st0\" x1=\"11\" y1=\"35.5\" x2=\"40.3\" y2=\"5.9\"/>\\n\\t<line class=\"st0\" x1=\"11\" y1=\"20.7\" x2=\"40.3\" y2=\"20.7\"/>\\n\\t<line class=\"st0\" x1=\"40.3\" y1=\"35.5\" x2=\"11\" y2=\"20.7\"/>\\n\\t<line class=\"st0\" x1=\"40.3\" y1=\"50.3\" x2=\"11\" y2=\"20.7\"/>\\n\\t<line class=\"st0\" x1=\"40.3\" y1=\"65.2\" x2=\"11\" y2=\"20.7\"/>\\n\\t<line class=\"st0\" x1=\"40.3\" y1=\"80\" x2=\"11\" y2=\"20.7\"/>\\n\\t<line class=\"st0\" x1=\"40.3\" y1=\"20.7\" x2=\"11\" y2=\"35.5\"/>\\n\\t<line class=\"st0\" x1=\"40.3\" y1=\"35.5\" x2=\"11\" y2=\"35.5\"/>\\n\\t<line class=\"st0\" x1=\"40.3\" y1=\"50.3\" x2=\"11\" y2=\"35.5\"/>\\n\\t<line class=\"st0\" x1=\"40.3\" y1=\"65.2\" x2=\"11\" y2=\"35.5\"/>\\n\\t<line class=\"st0\" x1=\"40.3\" y1=\"80\" x2=\"11\" y2=\"35.5\"/>\\n</g>\\n<g>\\n\\t<line class=\"st0\" x1=\"11\" y1=\"65.2\" x2=\"40.3\" y2=\"80\"/>\\n\\t<line class=\"st0\" x1=\"11\" y1=\"50.3\" x2=\"40.3\" y2=\"80\"/>\\n\\t<line class=\"st0\" x1=\"11\" y1=\"65.2\" x2=\"40.3\" y2=\"65.2\"/>\\n\\t<line class=\"st0\" x1=\"40.3\" y1=\"50.3\" x2=\"11\" y2=\"65.2\"/>\\n\\t<line class=\"st0\" x1=\"40.3\" y1=\"35.5\" x2=\"11\" y2=\"65.2\"/>\\n\\t<line class=\"st0\" x1=\"40.3\" y1=\"20.7\" x2=\"11\" y2=\"65.2\"/>\\n\\t<line class=\"st0\" x1=\"40.3\" y1=\"5.9\" x2=\"11\" y2=\"65.2\"/>\\n\\t<line class=\"st0\" x1=\"40.3\" y1=\"65.2\" x2=\"11\" y2=\"50.3\"/>\\n\\t<line class=\"st0\" x1=\"40.3\" y1=\"50.3\" x2=\"11\" y2=\"50.3\"/>\\n\\t<line class=\"st0\" x1=\"40.3\" y1=\"35.5\" x2=\"11\" y2=\"50.3\"/>\\n\\t<line class=\"st0\" x1=\"40.3\" y1=\"20.7\" x2=\"11\" y2=\"50.3\"/>\\n\\t<line class=\"st0\" x1=\"40.3\" y1=\"5.9\" x2=\"11\" y2=\"50.3\"/>\\n</g>\\n<circle class=\"st1\" cx=\"125.3\" cy=\"35.5\" r=\"5.1\"/>\\n<circle class=\"st1\" cx=\"125.3\" cy=\"50.3\" r=\"5.1\"/>\\n<circle class=\"st2\" cx=\"5.9\" cy=\"20.7\" r=\"5.1\"/>\\n<circle class=\"st2\" cx=\"5.9\" cy=\"35.5\" r=\"5.1\"/>\\n<circle class=\"st2\" cx=\"5.9\" cy=\"50.3\" r=\"5.1\"/>\\n<circle class=\"st2\" cx=\"5.9\" cy=\"65.2\" r=\"5.1\"/>\\n<circle class=\"st3\" cx=\"45.4\" cy=\"20.7\" r=\"5.1\"/>\\n<circle class=\"st3\" cx=\"45.4\" cy=\"35.5\" r=\"5.1\"/>\\n<circle class=\"st3\" cx=\"45.4\" cy=\"5.9\" r=\"5.1\"/>\\n<circle class=\"st3\" cx=\"45.4\" cy=\"50.3\" r=\"5.1\"/>\\n<circle class=\"st3\" cx=\"45.4\" cy=\"65.2\" r=\"5.1\"/>\\n<circle class=\"st3\" cx=\"45.4\" cy=\"80\" r=\"5.1\"/>\\n<circle class=\"st3\" cx=\"85.8\" cy=\"20.7\" r=\"5.1\"/>\\n<circle class=\"st3\" cx=\"85.8\" cy=\"35.5\" r=\"5.1\"/>\\n<circle class=\"st3\" cx=\"85.8\" cy=\"5.9\" r=\"5.1\"/>\\n<circle class=\"st3\" cx=\"85.8\" cy=\"50.3\" r=\"5.1\"/>\\n<circle class=\"st3\" cx=\"85.8\" cy=\"65.2\" r=\"5.1\"/>\\n<circle class=\"st3\" cx=\"85.8\" cy=\"80\" r=\"5.1\"/>\\n</svg>\\n'"
      ]
     },
     "execution_count": 8,
     "metadata": {},
     "output_type": "execute_result"
    }
   ],
   "source": [
    "image_64_decode = base64.b64decode(image_64_encode)\n",
    "print(type(image_64_decode))\n",
    "image_64_decode"
   ]
  },
  {
   "cell_type": "code",
   "execution_count": 9,
   "metadata": {},
   "outputs": [],
   "source": [
    "image_result = open('./img/test1.svg', 'wb')\n",
    "image_result.write(image_64_decode)\n",
    "image_result.close()"
   ]
  },
  {
   "cell_type": "code",
   "execution_count": null,
   "metadata": {},
   "outputs": [],
   "source": []
  }
 ],
 "metadata": {
  "interpreter": {
   "hash": "79c6abb749447d7ac515159f8dec464bcdf43938d8b0425f33c3bd9cf2455e53"
  },
  "kernelspec": {
   "display_name": "Python 3.8.12 ('pythonlab')",
   "language": "python",
   "name": "python3"
  },
  "language_info": {
   "codemirror_mode": {
    "name": "ipython",
    "version": 3
   },
   "file_extension": ".py",
   "mimetype": "text/x-python",
   "name": "python",
   "nbconvert_exporter": "python",
   "pygments_lexer": "ipython3",
   "version": "3.8.12"
  },
  "orig_nbformat": 4
 },
 "nbformat": 4,
 "nbformat_minor": 2
}
