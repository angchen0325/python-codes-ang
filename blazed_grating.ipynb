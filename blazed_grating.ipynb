{
 "cells": [
  {
   "cell_type": "code",
   "execution_count": 2,
   "metadata": {},
   "outputs": [],
   "source": [
    "import numpy as np\n",
    "import S4"
   ]
  },
  {
   "cell_type": "code",
   "execution_count": null,
   "metadata": {},
   "outputs": [],
   "source": [
    "def blazedGratingRnS4(lda,angle,phi,pola,\n",
    "        a,theta1,theta2,numLayer,nResist,kResist,dResist,nGlass,kGlass,numBasis):\n",
    "    '''\n",
    "    Define a function of S4 for calculating the diffraction efficiency of AR.\n",
    "    args: \n",
    "        for the light: lda, wavelength; angle, incident angle; phi, azimuth angle; pola, polarization;\n",
    "        for the structure: a, period; theta1, blazed angle; theta2, another angle; numLayer, number of rectangle layers forming the grating;\n",
    "        for the resist layer: nResist, real part of refractive index; kResist, imaginary part of refractive index; dResist, thickness;\n",
    "        for the substrate: nSubs, real part of refractive index; kSubs, imaginary part of refractive index;\n",
    "        for the Fourier: numBasis, number of Fourier expansion series\n",
    "    returns:\n",
    "        R: diffraction efficiency of specific order;\n",
    "    '''\n",
    "    period = [a,0]\n",
    "    S = S4.New(Lattice=((period[0],0), (0,period[1])), NumBasis=numBasis)\n",
    "    S.SetMaterial(Name='Air', Epsilon=(1+0j)**2)\n",
    "    S.SetMaterial(Name='Resist', Epsilon=(nResist+1j*kResist)**2)\n",
    "    S.SetMaterial(Name='Glass', Epsilon=(nGlass+1j*kGlass)**2)\n",
    "\n",
    "    S.AddLayer(Name='Air_layer', Thickness=1, Material='Air')\n",
    "    h = a / (1/np.tan(theta1*np.pi/180)+1/np.tan(theta2*np.pi/180))\n",
    "    dw = a / numLayer\n",
    "    dh = h / numLayer\n",
    "    for l in range(1, numLayer+1):\n",
    "        S.AddLayer(Name='Gratings'+str(l)+'_layer', Thickness=dh, Material='Air')\n",
    "        S.SetRegionRectangle(\n",
    "            Layer='Gratings'+str(l)+'_layer',\n",
    "            Material='Resist',\n",
    "            Center=((h/np.tan(theta1*np.pi/180)-a/2)*(numLayer-l)/numLayer, 0),\n",
    "            Angle=0,\n",
    "            Halfwidths=(dw*l/2, 0)\n",
    "        )\n",
    "\n",
    "    S.AddLayer(Name='Resist_layer', Thickness=dResist-h, Material='Resist')\n",
    "    S.AddLayer(Name='Glass_layer', Thickness=1, Material='Glass')\n",
    "\n",
    "    S.SetExcitationPlanewave(\n",
    "    IncidenceAngles=(angle,phi), sAmplitude=pola, pAmplitude=1-pola, Order=0)\n",
    "    S.SetOptions(PolarizationDecomposition=True)\n",
    "    S.SetFrequency(1/lda)\n",
    "    powr = S.GetPowerFluxByOrder(Layer='Air_layer', zOffset=0)\n",
    "\n",
    "    R0 = np.abs(np.real(powr[0][1])) / np.real(powr[0][0])\n",
    "    Rn1 = np.abs(np.real(powr[2][1])) / np.real(powr[0][0])\n",
    "    Rn2 = np.abs(np.real(powr[4][1])) / np.real(powr[0][0])\n",
    "    Rn3 = np.abs(np.real(powr[6][1])) / np.real(powr[0][0])\n",
    "\n",
    "    return R0, Rn1, Rn2, Rn3"
   ]
  }
 ],
 "metadata": {
  "kernelspec": {
   "display_name": "Python 3.9.8 64-bit",
   "language": "python",
   "name": "python3"
  },
  "language_info": {
   "codemirror_mode": {
    "name": "ipython",
    "version": 3
   },
   "file_extension": ".py",
   "mimetype": "text/x-python",
   "name": "python",
   "nbconvert_exporter": "python",
   "pygments_lexer": "ipython3",
   "version": "3.9.8"
  },
  "orig_nbformat": 4,
  "vscode": {
   "interpreter": {
    "hash": "aee8b7b246df8f9039afb4144a1f6fd8d2ca17a180786b69acc140d282b71a49"
   }
  }
 },
 "nbformat": 4,
 "nbformat_minor": 2
}
