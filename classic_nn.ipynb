{
 "cells": [
  {
   "cell_type": "markdown",
   "metadata": {},
   "source": [
    "<center> <img src=\"data:image/svg+xml;base64,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\" style=\"width:20.0%\"/></center>\n",
    "\n"
   ]
  },
  {
   "cell_type": "markdown",
   "metadata": {},
   "source": [
    "<center><font size=5 face=\"Helvetica\" color=#306998><b>An Introduction to Classic Neural Networks</b></font></center>"
   ]
  },
  {
   "cell_type": "markdown",
   "metadata": {},
   "source": [
    "<center><b><font face=\"Helvetica\" size=2>Ang Chen</font></center></b>\n",
    "<center><font face=\"Helvetica\" size=3>February, 2022</font></center>\n",
    "\n",
    "***"
   ]
  },
  {
   "cell_type": "markdown",
   "metadata": {},
   "source": [
    "# Import base libraries"
   ]
  },
  {
   "cell_type": "code",
   "execution_count": 1,
   "metadata": {},
   "outputs": [],
   "source": [
    "# Import libraries\n",
    "import numpy as np\n",
    "import matplotlib.pyplot as plt\n",
    "plt.rcParams[\"font.family\"] = \"Helvetica\"\n",
    "%matplotlib inline\n",
    "%config InlineBackend.figure_format = 'svg'"
   ]
  },
  {
   "cell_type": "markdown",
   "metadata": {},
   "source": [
    "# 1. Building blocks: neurons"
   ]
  },
  {
   "cell_type": "code",
   "execution_count": 2,
   "metadata": {},
   "outputs": [],
   "source": [
    "def sigmoid(x):\n",
    "    # Our activation function: f(x) = 1 / (1 + e^(-x))\n",
    "    return 1 / (1 + np.exp(-x))\n",
    "\n",
    "\n",
    "def deriv_sigmoid(x):\n",
    "    # Derivative of sigmoid: f'(x) = f(x) * (1-f(x))\n",
    "    fx = sigmoid(x)\n",
    "    return fx * (1 - fx)\n",
    "\n",
    "\n",
    "class Neuron:\n",
    "    def __init__(self, weights, bias):\n",
    "        self.weights = weights\n",
    "        self.bias = bias\n",
    "\n",
    "    def feedforward(self, inputs):\n",
    "        # Weight inputs, add bias, then use the activation function\n",
    "        total = np.dot(self.weights, inputs) + self.bias\n",
    "        return sigmoid(total)\n"
   ]
  },
  {
   "cell_type": "code",
   "execution_count": 3,
   "metadata": {},
   "outputs": [
    {
     "name": "stdout",
     "output_type": "stream",
     "text": [
      "0.9990889488055994\n"
     ]
    }
   ],
   "source": [
    "weights = np.array([0, 1])  # w1 = 0, w2 = 1\n",
    "bias = 4                   # b = 4\n",
    "n = Neuron(weights, bias)\n",
    "\n",
    "x = np.array([2, 3])       # x1 = 2, x2 = 3\n",
    "print(n.feedforward(x))\n"
   ]
  },
  {
   "cell_type": "markdown",
   "metadata": {},
   "source": [
    "# 2. Combining neurons into a neural network"
   ]
  },
  {
   "cell_type": "code",
   "execution_count": 4,
   "metadata": {},
   "outputs": [
    {
     "name": "stdout",
     "output_type": "stream",
     "text": [
      "0.7216325609518421\n"
     ]
    }
   ],
   "source": [
    "class OurNeuralNetwork:\n",
    "    '''\n",
    "    A neural network with:\n",
    "        - 2 inputs\n",
    "        - a hidden layer with 2 neurons (h1, h2)\n",
    "        - an output layer with 1 neuron (o1)\n",
    "    Each neuron has the same weights and bias:\n",
    "        - w = [0,1]\n",
    "        - b = 0\n",
    "    '''\n",
    "\n",
    "    def __init__(self):\n",
    "        weights = np.array([0, 1])\n",
    "        bias = 0\n",
    "\n",
    "        # Use the Neural class previous\n",
    "        self.h1 = Neuron(weights, bias)\n",
    "        self.h2 = Neuron(weights, bias)\n",
    "        self.o1 = Neuron(weights, bias)\n",
    "\n",
    "    def feedforward(self, x):\n",
    "        out_h1 = self.h1.feedforward(x)\n",
    "        out_h2 = self.h2.feedforward(x)\n",
    "\n",
    "        # The inputs of o1 are the outputs from h1 and h2\n",
    "        out_o1 = self.o1.feedforward(np.array([out_h1, out_h2]))\n",
    "\n",
    "        return out_o1\n",
    "\n",
    "\n",
    "network = OurNeuralNetwork()\n",
    "x = np.array([2,3])\n",
    "print(network.feedforward(x))\n"
   ]
  },
  {
   "cell_type": "markdown",
   "metadata": {},
   "source": [
    "# Training a neural network, part 1"
   ]
  },
  {
   "cell_type": "markdown",
   "metadata": {},
   "source": [
    "## Code the MSE loss"
   ]
  },
  {
   "cell_type": "code",
   "execution_count": 5,
   "metadata": {},
   "outputs": [
    {
     "name": "stdout",
     "output_type": "stream",
     "text": [
      "0.5\n"
     ]
    }
   ],
   "source": [
    "def mse_loss(y_true, y_pred):\n",
    "    # y_true and y_pred are numpy arrays with the same length\n",
    "    return ((y_true-y_pred)**2).mean()\n",
    "\n",
    "\n",
    "y_true = np.array([1, 0, 0, 1])\n",
    "y_pred = np.array([0, 0, 0, 0])\n",
    "\n",
    "print(mse_loss(y_true,y_pred))\n"
   ]
  },
  {
   "cell_type": "markdown",
   "metadata": {},
   "source": [
    "# Training a neural network, part 2"
   ]
  },
  {
   "cell_type": "code",
   "execution_count": 6,
   "metadata": {},
   "outputs": [],
   "source": [
    "class NeuralNetwork:\n",
    "    '''\n",
    "    A neural network with:\n",
    "        - 2 inputs\n",
    "        - a hidden layer with 2 neurons (h1, h2)\n",
    "        - an output layer with 1 neuron (o1)\n",
    "    '''\n",
    "\n",
    "    def __init__(self):\n",
    "        # Weights\n",
    "        self.w1 = np.random.normal()\n",
    "        self.w2 = np.random.normal()\n",
    "        self.w3 = np.random.normal()\n",
    "        self.w4 = np.random.normal()\n",
    "        self.w5 = np.random.normal()\n",
    "        self.w6 = np.random.normal()\n",
    "\n",
    "        # Biases\n",
    "        self.b1 = np.random.normal()\n",
    "        self.b2 = np.random.normal()\n",
    "        self.b3 = np.random.normal()\n",
    "\n",
    "    def feedforward(self, x):\n",
    "        # x is a numpy array with 2 elements\n",
    "        h1 = sigmoid(self.w1 * x[0] + self.w2 * x[1] + self.b1)\n",
    "        h2 = sigmoid(self.w3 * x[0] + self.w4 * x[1] + self.b2)\n",
    "        o1 = sigmoid(self.w5 * h1 + self.w6 * h2 + self.b3)\n",
    "\n",
    "        return o1\n",
    "\n",
    "    def train(self, data, all_y_trues, epochs):\n",
    "        '''\n",
    "        - data is a n*2 numpy array, n = # of samples in the dataset\n",
    "        - all_y_trues is a numpy array with n elements, corresponding to those data in dataset\n",
    "        - number of times to loop through the entire dataset\n",
    "        '''\n",
    "        learn_rate = 0.1\n",
    "        epoch_data = np.empty(epochs)\n",
    "        loss_data = np.empty(epochs)\n",
    "\n",
    "        for epoch in range(epochs):\n",
    "            for x, y_true in zip(data, all_y_trues):\n",
    "                # --- Do a feedforward\n",
    "                sum_h1 = self.w1*x[0] + self.w2*x[1] + self.b1\n",
    "                h1 = sigmoid(sum_h1)\n",
    "\n",
    "                sum_h2 = self.w3*x[0] + self.w4*x[1] + self.b2\n",
    "                h2 = sigmoid(sum_h2)\n",
    "\n",
    "                sum_o1 = self.w5*h1 + self.w6*h2 + self.b3\n",
    "                o1 = sigmoid(sum_o1)\n",
    "                y_pred = o1\n",
    "\n",
    "                # --- Calculate the partial derivatives\n",
    "                # --- Naming: d_L_d_w1 represents \"partial L / partial w1\"\n",
    "                d_L_d_ypred = -2 * (y_true - y_pred)\n",
    "\n",
    "                # Neuron o1\n",
    "                d_ypred_d_w5 = h1 * deriv_sigmoid(sum_o1)\n",
    "                d_ypred_d_w6 = h2 * deriv_sigmoid(sum_o1)\n",
    "                d_ypred_d_b3 = 1.0 * deriv_sigmoid(sum_o1)\n",
    "\n",
    "                d_ypred_d_h1 = self.w5 * deriv_sigmoid(sum_o1)\n",
    "                d_ypred_d_h2 = self.w6 * deriv_sigmoid(sum_o1)\n",
    "\n",
    "                # Neuron h1\n",
    "                d_h1_d_w1 = x[0] * deriv_sigmoid(sum_h1)\n",
    "                d_h1_d_w2 = x[1] * deriv_sigmoid(sum_h1)\n",
    "                d_h1_d_b1 = 1.0 * deriv_sigmoid(sum_h1)\n",
    "\n",
    "                # Neuron h2\n",
    "                d_h2_d_w3 = x[0] * deriv_sigmoid(sum_h2)\n",
    "                d_h2_d_w4 = x[1] * deriv_sigmoid(sum_h2)\n",
    "                d_h2_d_b2 = 1.0 * deriv_sigmoid(sum_h2)\n",
    "\n",
    "                # --- Update weights and biases\n",
    "                # Neuron h1\n",
    "                self.w1 -= learn_rate * d_L_d_ypred * d_ypred_d_h1 * d_h1_d_w1\n",
    "                self.w2 -= learn_rate * d_L_d_ypred * d_ypred_d_h1 * d_h1_d_w2\n",
    "                self.b1 -= learn_rate * d_L_d_ypred * d_ypred_d_h1 * d_h1_d_b1\n",
    "\n",
    "                # Neuron h2\n",
    "                self.w3 -= learn_rate * d_L_d_ypred * d_ypred_d_h2 * d_h2_d_w3\n",
    "                self.w4 -= learn_rate * d_L_d_ypred * d_ypred_d_h2 * d_h2_d_w4\n",
    "                self.b2 -= learn_rate * d_L_d_ypred * d_ypred_d_h2 * d_h2_d_b2\n",
    "\n",
    "                # Neuron o1\n",
    "                self.w5 -= learn_rate * d_L_d_ypred * d_ypred_d_w5\n",
    "                self.w6 -= learn_rate * d_L_d_ypred * d_ypred_d_w6\n",
    "                self.b3 -= learn_rate * d_L_d_ypred * d_ypred_d_b3\n",
    "\n",
    "            epoch_data[epoch] = epoch\n",
    "            loss_data[epoch] = mse_loss(all_y_trues,np.apply_along_axis(self.feedforward, 1, data)) \n",
    "\n",
    "            np.save('loss.npy',np.vstack((epoch_data,loss_data)).T)  \n",
    "\n",
    "            if epoch % 100 == 0:\n",
    "                y_preds = np.apply_along_axis(self.feedforward, 1, data)\n",
    "                loss = mse_loss(all_y_trues, y_preds)\n",
    "                print(\"Epoch %d loss: %.3f\" % (epoch, loss))\n"
   ]
  },
  {
   "cell_type": "code",
   "execution_count": 7,
   "metadata": {},
   "outputs": [],
   "source": [
    "# Define dataset\n",
    "data = np.array([\n",
    "    [-2, -1],  # Alice\n",
    "    [25, 6],   # Bob\n",
    "    [17, 4],   # Charlie\n",
    "    [-15, -6],  # Diana\n",
    "])\n",
    "\n",
    "all_y_trues = np.array([\n",
    "    1,  # Alice\n",
    "    0,  # Bob\n",
    "    0,  # Charlie\n",
    "    1,  # Diana\n",
    "])\n"
   ]
  },
  {
   "cell_type": "code",
   "execution_count": 8,
   "metadata": {},
   "outputs": [
    {
     "name": "stdout",
     "output_type": "stream",
     "text": [
      "Epoch 0 loss: 0.311\n",
      "Epoch 100 loss: 0.030\n",
      "Epoch 200 loss: 0.012\n",
      "Epoch 300 loss: 0.007\n",
      "Epoch 400 loss: 0.005\n",
      "Epoch 500 loss: 0.004\n",
      "Epoch 600 loss: 0.003\n",
      "Epoch 700 loss: 0.002\n",
      "Epoch 800 loss: 0.002\n",
      "Epoch 900 loss: 0.002\n",
      "Epoch 1000 loss: 0.002\n",
      "Epoch 1100 loss: 0.001\n",
      "Epoch 1200 loss: 0.001\n",
      "Epoch 1300 loss: 0.001\n",
      "Epoch 1400 loss: 0.001\n",
      "Epoch 1500 loss: 0.001\n",
      "Epoch 1600 loss: 0.001\n",
      "Epoch 1700 loss: 0.001\n",
      "Epoch 1800 loss: 0.001\n",
      "Epoch 1900 loss: 0.001\n"
     ]
    }
   ],
   "source": [
    "# Train our neural network!\n",
    "epochs = 2000\n",
    "network = NeuralNetwork()\n",
    "network.train(data, all_y_trues, epochs)\n"
   ]
  },
  {
   "cell_type": "code",
   "execution_count": 9,
   "metadata": {},
   "outputs": [
    {
     "data": {
      "image/svg+xml": "<?xml version=\"1.0\" encoding=\"utf-8\" standalone=\"no\"?>\n<!DOCTYPE svg PUBLIC \"-//W3C//DTD SVG 1.1//EN\"\n  \"http://www.w3.org/Graphics/SVG/1.1/DTD/svg11.dtd\">\n<svg xmlns:xlink=\"http://www.w3.org/1999/xlink\" width=\"344.240625pt\" height=\"234.199062pt\" viewBox=\"0 0 344.240625 234.199062\" xmlns=\"http://www.w3.org/2000/svg\" version=\"1.1\">\n <metadata>\n  <rdf:RDF xmlns:dc=\"http://purl.org/dc/elements/1.1/\" xmlns:cc=\"http://creativecommons.org/ns#\" xmlns:rdf=\"http://www.w3.org/1999/02/22-rdf-syntax-ns#\">\n   <cc:Work>\n    <dc:type rdf:resource=\"http://purl.org/dc/dcmitype/StillImage\"/>\n    <dc:date>2022-05-14T13:20:42.898088</dc:date>\n    <dc:format>image/svg+xml</dc:format>\n    <dc:creator>\n     <cc:Agent>\n      <dc:title>Matplotlib v3.5.0, https://matplotlib.org/</dc:title>\n     </cc:Agent>\n    </dc:creator>\n   </cc:Work>\n  </rdf:RDF>\n </metadata>\n <defs>\n  <style type=\"text/css\">*{stroke-linejoin: round; stroke-linecap: butt}</style>\n </defs>\n <g id=\"figure_1\">\n  <g id=\"patch_1\">\n   <path d=\"M 0 234.199062 \nL 344.240625 234.199062 \nL 344.240625 0 \nL 0 0 \nL 0 234.199062 \nz\n\" style=\"fill: none\"/>\n  </g>\n  <g id=\"axes_1\">\n   <g id=\"patch_2\">\n    <path d=\"M 46.91875 197.46 \nL 325.91875 197.46 \nL 325.91875 7.2 \nL 46.91875 7.2 \nz\n\" style=\"fill: #ffffff\"/>\n   </g>\n   <g id=\"matplotlib.axis_1\">\n    <g id=\"xtick_1\">\n     <g id=\"line2d_1\">\n      <path d=\"M 46.91875 197.46 \nL 46.91875 7.2 \n\" clip-path=\"url(#p3964090283)\" style=\"fill: none; stroke-dasharray: 2.96,1.28; stroke-dashoffset: 0; stroke: #b0b0b0; stroke-width: 0.8\"/>\n     </g>\n     <g id=\"line2d_2\">\n      <defs>\n       <path id=\"mecf47f2fff\" d=\"M 0 0 \nL 0 3.5 \n\" style=\"stroke: #000000; stroke-width: 0.8\"/>\n      </defs>\n      <g>\n       <use xlink:href=\"#mecf47f2fff\" x=\"46.91875\" y=\"197.46\" style=\"stroke: #000000; stroke-width: 0.8\"/>\n      </g>\n     </g>\n     <g id=\"text_1\">\n      <!-- 0 -->\n      <g transform=\"translate(44.138281 211.633437)scale(0.1 -0.1)\">\n       <defs>\n        <path id=\"Helvetica-30\" d=\"M 1731 4475 \nQ 2600 4475 2988 3759 \nQ 3288 3206 3288 2244 \nQ 3288 1331 3016 734 \nQ 2622 -122 1728 -122 \nQ 922 -122 528 578 \nQ 200 1163 200 2147 \nQ 200 2909 397 3456 \nQ 766 4475 1731 4475 \nz\nM 1725 391 \nQ 2163 391 2422 778 \nQ 2681 1166 2681 2222 \nQ 2681 2984 2493 3476 \nQ 2306 3969 1766 3969 \nQ 1269 3969 1039 3501 \nQ 809 3034 809 2125 \nQ 809 1441 956 1025 \nQ 1181 391 1725 391 \nz\n\" transform=\"scale(0.015625)\"/>\n       </defs>\n       <use xlink:href=\"#Helvetica-30\"/>\n      </g>\n     </g>\n    </g>\n    <g id=\"xtick_2\">\n     <g id=\"line2d_3\">\n      <path d=\"M 102.71875 197.46 \nL 102.71875 7.2 \n\" clip-path=\"url(#p3964090283)\" style=\"fill: none; stroke-dasharray: 2.96,1.28; stroke-dashoffset: 0; stroke: #b0b0b0; stroke-width: 0.8\"/>\n     </g>\n     <g id=\"line2d_4\">\n      <g>\n       <use xlink:href=\"#mecf47f2fff\" x=\"102.71875\" y=\"197.46\" style=\"stroke: #000000; stroke-width: 0.8\"/>\n      </g>\n     </g>\n     <g id=\"text_2\">\n      <!-- 200 -->\n      <g transform=\"translate(94.377344 211.633437)scale(0.1 -0.1)\">\n       <defs>\n        <path id=\"Helvetica-32\" d=\"M 200 0 \nQ 231 578 439 1006 \nQ 647 1434 1250 1784 \nL 1850 2131 \nQ 2253 2366 2416 2531 \nQ 2672 2791 2672 3125 \nQ 2672 3516 2437 3745 \nQ 2203 3975 1813 3975 \nQ 1234 3975 1013 3538 \nQ 894 3303 881 2888 \nL 309 2888 \nQ 319 3472 525 3841 \nQ 891 4491 1816 4491 \nQ 2584 4491 2939 4075 \nQ 3294 3659 3294 3150 \nQ 3294 2613 2916 2231 \nQ 2697 2009 2131 1694 \nL 1703 1456 \nQ 1397 1288 1222 1134 \nQ 909 863 828 531 \nL 3272 531 \nL 3272 0 \nL 200 0 \nz\n\" transform=\"scale(0.015625)\"/>\n       </defs>\n       <use xlink:href=\"#Helvetica-32\"/>\n       <use xlink:href=\"#Helvetica-30\" x=\"55.615234\"/>\n       <use xlink:href=\"#Helvetica-30\" x=\"111.230469\"/>\n      </g>\n     </g>\n    </g>\n    <g id=\"xtick_3\">\n     <g id=\"line2d_5\">\n      <path d=\"M 158.51875 197.46 \nL 158.51875 7.2 \n\" clip-path=\"url(#p3964090283)\" style=\"fill: none; stroke-dasharray: 2.96,1.28; stroke-dashoffset: 0; stroke: #b0b0b0; stroke-width: 0.8\"/>\n     </g>\n     <g id=\"line2d_6\">\n      <g>\n       <use xlink:href=\"#mecf47f2fff\" x=\"158.51875\" y=\"197.46\" style=\"stroke: #000000; stroke-width: 0.8\"/>\n      </g>\n     </g>\n     <g id=\"text_3\">\n      <!-- 400 -->\n      <g transform=\"translate(150.177344 211.633437)scale(0.1 -0.1)\">\n       <defs>\n        <path id=\"Helvetica-34\" d=\"M 2116 1584 \nL 2116 3613 \nL 681 1584 \nL 2116 1584 \nz\nM 2125 0 \nL 2125 1094 \nL 163 1094 \nL 163 1644 \nL 2213 4488 \nL 2688 4488 \nL 2688 1584 \nL 3347 1584 \nL 3347 1094 \nL 2688 1094 \nL 2688 0 \nL 2125 0 \nz\n\" transform=\"scale(0.015625)\"/>\n       </defs>\n       <use xlink:href=\"#Helvetica-34\"/>\n       <use xlink:href=\"#Helvetica-30\" x=\"55.615234\"/>\n       <use xlink:href=\"#Helvetica-30\" x=\"111.230469\"/>\n      </g>\n     </g>\n    </g>\n    <g id=\"xtick_4\">\n     <g id=\"line2d_7\">\n      <path d=\"M 214.31875 197.46 \nL 214.31875 7.2 \n\" clip-path=\"url(#p3964090283)\" style=\"fill: none; stroke-dasharray: 2.96,1.28; stroke-dashoffset: 0; stroke: #b0b0b0; stroke-width: 0.8\"/>\n     </g>\n     <g id=\"line2d_8\">\n      <g>\n       <use xlink:href=\"#mecf47f2fff\" x=\"214.31875\" y=\"197.46\" style=\"stroke: #000000; stroke-width: 0.8\"/>\n      </g>\n     </g>\n     <g id=\"text_4\">\n      <!-- 600 -->\n      <g transform=\"translate(205.977344 211.633437)scale(0.1 -0.1)\">\n       <defs>\n        <path id=\"Helvetica-36\" d=\"M 1872 4494 \nQ 2622 4494 2917 4105 \nQ 3213 3716 3213 3303 \nL 2656 3303 \nQ 2606 3569 2497 3719 \nQ 2294 4000 1881 4000 \nQ 1409 4000 1131 3564 \nQ 853 3128 822 2316 \nQ 1016 2600 1309 2741 \nQ 1578 2866 1909 2866 \nQ 2472 2866 2890 2506 \nQ 3309 2147 3309 1434 \nQ 3309 825 2912 354 \nQ 2516 -116 1781 -116 \nQ 1153 -116 697 361 \nQ 241 838 241 1966 \nQ 241 2800 444 3381 \nQ 834 4494 1872 4494 \nz\nM 1831 384 \nQ 2275 384 2495 682 \nQ 2716 981 2716 1388 \nQ 2716 1731 2519 2042 \nQ 2322 2353 1803 2353 \nQ 1441 2353 1167 2112 \nQ 894 1872 894 1388 \nQ 894 963 1142 673 \nQ 1391 384 1831 384 \nz\n\" transform=\"scale(0.015625)\"/>\n       </defs>\n       <use xlink:href=\"#Helvetica-36\"/>\n       <use xlink:href=\"#Helvetica-30\" x=\"55.615234\"/>\n       <use xlink:href=\"#Helvetica-30\" x=\"111.230469\"/>\n      </g>\n     </g>\n    </g>\n    <g id=\"xtick_5\">\n     <g id=\"line2d_9\">\n      <path d=\"M 270.11875 197.46 \nL 270.11875 7.2 \n\" clip-path=\"url(#p3964090283)\" style=\"fill: none; stroke-dasharray: 2.96,1.28; stroke-dashoffset: 0; stroke: #b0b0b0; stroke-width: 0.8\"/>\n     </g>\n     <g id=\"line2d_10\">\n      <g>\n       <use xlink:href=\"#mecf47f2fff\" x=\"270.11875\" y=\"197.46\" style=\"stroke: #000000; stroke-width: 0.8\"/>\n      </g>\n     </g>\n     <g id=\"text_5\">\n      <!-- 800 -->\n      <g transform=\"translate(261.777344 211.633437)scale(0.1 -0.1)\">\n       <defs>\n        <path id=\"Helvetica-38\" d=\"M 1741 2600 \nQ 2113 2600 2322 2808 \nQ 2531 3016 2531 3303 \nQ 2531 3553 2331 3762 \nQ 2131 3972 1722 3972 \nQ 1316 3972 1134 3762 \nQ 953 3553 953 3272 \nQ 953 2956 1187 2778 \nQ 1422 2600 1741 2600 \nz\nM 1775 384 \nQ 2166 384 2423 595 \nQ 2681 806 2681 1225 \nQ 2681 1659 2415 1884 \nQ 2150 2109 1734 2109 \nQ 1331 2109 1076 1879 \nQ 822 1650 822 1244 \nQ 822 894 1055 639 \nQ 1288 384 1775 384 \nz\nM 975 2384 \nQ 741 2484 609 2619 \nQ 363 2869 363 3269 \nQ 363 3769 725 4128 \nQ 1088 4488 1753 4488 \nQ 2397 4488 2762 4148 \nQ 3128 3809 3128 3356 \nQ 3128 2938 2916 2678 \nQ 2797 2531 2547 2391 \nQ 2825 2263 2984 2097 \nQ 3281 1784 3281 1284 \nQ 3281 694 2884 283 \nQ 2488 -128 1763 -128 \nQ 1109 -128 657 226 \nQ 206 581 206 1256 \nQ 206 1653 400 1942 \nQ 594 2231 975 2384 \nz\n\" transform=\"scale(0.015625)\"/>\n       </defs>\n       <use xlink:href=\"#Helvetica-38\"/>\n       <use xlink:href=\"#Helvetica-30\" x=\"55.615234\"/>\n       <use xlink:href=\"#Helvetica-30\" x=\"111.230469\"/>\n      </g>\n     </g>\n    </g>\n    <g id=\"xtick_6\">\n     <g id=\"line2d_11\">\n      <path d=\"M 325.91875 197.46 \nL 325.91875 7.2 \n\" clip-path=\"url(#p3964090283)\" style=\"fill: none; stroke-dasharray: 2.96,1.28; stroke-dashoffset: 0; stroke: #b0b0b0; stroke-width: 0.8\"/>\n     </g>\n     <g id=\"line2d_12\">\n      <g>\n       <use xlink:href=\"#mecf47f2fff\" x=\"325.91875\" y=\"197.46\" style=\"stroke: #000000; stroke-width: 0.8\"/>\n      </g>\n     </g>\n     <g id=\"text_6\">\n      <!-- 1000 -->\n      <g transform=\"translate(314.796875 211.633437)scale(0.1 -0.1)\">\n       <defs>\n        <path id=\"Helvetica-31\" d=\"M 613 3169 \nL 613 3600 \nQ 1222 3659 1462 3798 \nQ 1703 3938 1822 4456 \nL 2266 4456 \nL 2266 0 \nL 1666 0 \nL 1666 3169 \nL 613 3169 \nz\n\" transform=\"scale(0.015625)\"/>\n       </defs>\n       <use xlink:href=\"#Helvetica-31\"/>\n       <use xlink:href=\"#Helvetica-30\" x=\"55.615234\"/>\n       <use xlink:href=\"#Helvetica-30\" x=\"111.230469\"/>\n       <use xlink:href=\"#Helvetica-30\" x=\"166.845703\"/>\n      </g>\n     </g>\n    </g>\n    <g id=\"text_7\">\n     <!-- Epoch -->\n     <g transform=\"translate(172.242188 224.914687)scale(0.1 -0.1)\">\n      <defs>\n       <path id=\"Helvetica-45\" d=\"M 547 4591 \nL 3894 4591 \nL 3894 4028 \nL 1153 4028 \nL 1153 2634 \nL 3688 2634 \nL 3688 2103 \nL 1153 2103 \nL 1153 547 \nL 3941 547 \nL 3941 0 \nL 547 0 \nL 547 4591 \nz\nM 2244 4591 \nL 2244 4591 \nz\n\" transform=\"scale(0.015625)\"/>\n       <path id=\"Helvetica-70\" d=\"M 1825 378 \nQ 2219 378 2480 708 \nQ 2741 1038 2741 1694 \nQ 2741 2094 2625 2381 \nQ 2406 2934 1825 2934 \nQ 1241 2934 1025 2350 \nQ 909 2038 909 1556 \nQ 909 1169 1025 897 \nQ 1244 378 1825 378 \nz\nM 369 3331 \nL 916 3331 \nL 916 2888 \nQ 1084 3116 1284 3241 \nQ 1569 3428 1953 3428 \nQ 2522 3428 2919 2992 \nQ 3316 2556 3316 1747 \nQ 3316 653 2744 184 \nQ 2381 -113 1900 -113 \nQ 1522 -113 1266 53 \nQ 1116 147 931 375 \nL 931 -1334 \nL 369 -1334 \nL 369 3331 \nz\n\" transform=\"scale(0.015625)\"/>\n       <path id=\"Helvetica-6f\" d=\"M 1741 363 \nQ 2300 363 2508 786 \nQ 2716 1209 2716 1728 \nQ 2716 2197 2566 2491 \nQ 2328 2953 1747 2953 \nQ 1231 2953 997 2559 \nQ 763 2166 763 1609 \nQ 763 1075 997 719 \nQ 1231 363 1741 363 \nz\nM 1763 3444 \nQ 2409 3444 2856 3012 \nQ 3303 2581 3303 1744 \nQ 3303 934 2909 406 \nQ 2516 -122 1688 -122 \nQ 997 -122 590 345 \nQ 184 813 184 1600 \nQ 184 2444 612 2944 \nQ 1041 3444 1763 3444 \nz\nM 1744 3428 \nL 1744 3428 \nz\n\" transform=\"scale(0.015625)\"/>\n       <path id=\"Helvetica-63\" d=\"M 1703 3444 \nQ 2269 3444 2623 3169 \nQ 2978 2894 3050 2222 \nL 2503 2222 \nQ 2453 2531 2275 2736 \nQ 2097 2941 1703 2941 \nQ 1166 2941 934 2416 \nQ 784 2075 784 1575 \nQ 784 1072 996 728 \nQ 1209 384 1666 384 \nQ 2016 384 2220 598 \nQ 2425 813 2503 1184 \nL 3050 1184 \nQ 2956 519 2581 211 \nQ 2206 -97 1622 -97 \nQ 966 -97 575 383 \nQ 184 863 184 1581 \nQ 184 2463 612 2953 \nQ 1041 3444 1703 3444 \nz\nM 1616 3428 \nL 1616 3428 \nz\n\" transform=\"scale(0.015625)\"/>\n       <path id=\"Helvetica-68\" d=\"M 413 4606 \nL 975 4606 \nL 975 2894 \nQ 1175 3147 1334 3250 \nQ 1606 3428 2013 3428 \nQ 2741 3428 3000 2919 \nQ 3141 2641 3141 2147 \nL 3141 0 \nL 2563 0 \nL 2563 2109 \nQ 2563 2478 2469 2650 \nQ 2316 2925 1894 2925 \nQ 1544 2925 1259 2684 \nQ 975 2444 975 1775 \nL 975 0 \nL 413 0 \nL 413 4606 \nz\n\" transform=\"scale(0.015625)\"/>\n      </defs>\n      <use xlink:href=\"#Helvetica-45\"/>\n      <use xlink:href=\"#Helvetica-70\" x=\"66.699219\"/>\n      <use xlink:href=\"#Helvetica-6f\" x=\"122.314453\"/>\n      <use xlink:href=\"#Helvetica-63\" x=\"177.929688\"/>\n      <use xlink:href=\"#Helvetica-68\" x=\"227.929688\"/>\n     </g>\n    </g>\n   </g>\n   <g id=\"matplotlib.axis_2\">\n    <g id=\"ytick_1\">\n     <g id=\"line2d_13\">\n      <path d=\"M 46.91875 189.209406 \nL 325.91875 189.209406 \n\" clip-path=\"url(#p3964090283)\" style=\"fill: none; stroke-dasharray: 2.96,1.28; stroke-dashoffset: 0; stroke: #b0b0b0; stroke-width: 0.8\"/>\n     </g>\n     <g id=\"line2d_14\">\n      <defs>\n       <path id=\"ma5118edca6\" d=\"M 0 0 \nL -3.5 0 \n\" style=\"stroke: #000000; stroke-width: 0.8\"/>\n      </defs>\n      <g>\n       <use xlink:href=\"#ma5118edca6\" x=\"46.91875\" y=\"189.209406\" style=\"stroke: #000000; stroke-width: 0.8\"/>\n      </g>\n     </g>\n     <g id=\"text_8\">\n      <!-- 0.00 -->\n      <g transform=\"translate(20.457813 192.796125)scale(0.1 -0.1)\">\n       <defs>\n        <path id=\"Helvetica-2e\" d=\"M 547 681 \nL 1200 681 \nL 1200 0 \nL 547 0 \nL 547 681 \nz\n\" transform=\"scale(0.015625)\"/>\n       </defs>\n       <use xlink:href=\"#Helvetica-30\"/>\n       <use xlink:href=\"#Helvetica-2e\" x=\"55.615234\"/>\n       <use xlink:href=\"#Helvetica-30\" x=\"83.398438\"/>\n       <use xlink:href=\"#Helvetica-30\" x=\"139.013672\"/>\n      </g>\n     </g>\n    </g>\n    <g id=\"ytick_2\">\n     <g id=\"line2d_15\">\n      <path d=\"M 46.91875 161.371131 \nL 325.91875 161.371131 \n\" clip-path=\"url(#p3964090283)\" style=\"fill: none; stroke-dasharray: 2.96,1.28; stroke-dashoffset: 0; stroke: #b0b0b0; stroke-width: 0.8\"/>\n     </g>\n     <g id=\"line2d_16\">\n      <g>\n       <use xlink:href=\"#ma5118edca6\" x=\"46.91875\" y=\"161.371131\" style=\"stroke: #000000; stroke-width: 0.8\"/>\n      </g>\n     </g>\n     <g id=\"text_9\">\n      <!-- 0.05 -->\n      <g transform=\"translate(20.457813 164.95785)scale(0.1 -0.1)\">\n       <defs>\n        <path id=\"Helvetica-35\" d=\"M 791 1141 \nQ 847 659 1238 475 \nQ 1438 381 1700 381 \nQ 2200 381 2440 700 \nQ 2681 1019 2681 1406 \nQ 2681 1875 2395 2131 \nQ 2109 2388 1709 2388 \nQ 1419 2388 1211 2275 \nQ 1003 2163 856 1963 \nL 369 1991 \nL 709 4400 \nL 3034 4400 \nL 3034 3856 \nL 1131 3856 \nL 941 2613 \nQ 1097 2731 1238 2791 \nQ 1488 2894 1816 2894 \nQ 2431 2894 2859 2497 \nQ 3288 2100 3288 1491 \nQ 3288 856 2895 371 \nQ 2503 -113 1644 -113 \nQ 1097 -113 676 195 \nQ 256 503 206 1141 \nL 791 1141 \nz\n\" transform=\"scale(0.015625)\"/>\n       </defs>\n       <use xlink:href=\"#Helvetica-30\"/>\n       <use xlink:href=\"#Helvetica-2e\" x=\"55.615234\"/>\n       <use xlink:href=\"#Helvetica-30\" x=\"83.398438\"/>\n       <use xlink:href=\"#Helvetica-35\" x=\"139.013672\"/>\n      </g>\n     </g>\n    </g>\n    <g id=\"ytick_3\">\n     <g id=\"line2d_17\">\n      <path d=\"M 46.91875 133.532856 \nL 325.91875 133.532856 \n\" clip-path=\"url(#p3964090283)\" style=\"fill: none; stroke-dasharray: 2.96,1.28; stroke-dashoffset: 0; stroke: #b0b0b0; stroke-width: 0.8\"/>\n     </g>\n     <g id=\"line2d_18\">\n      <g>\n       <use xlink:href=\"#ma5118edca6\" x=\"46.91875\" y=\"133.532856\" style=\"stroke: #000000; stroke-width: 0.8\"/>\n      </g>\n     </g>\n     <g id=\"text_10\">\n      <!-- 0.10 -->\n      <g transform=\"translate(20.457813 137.119575)scale(0.1 -0.1)\">\n       <use xlink:href=\"#Helvetica-30\"/>\n       <use xlink:href=\"#Helvetica-2e\" x=\"55.615234\"/>\n       <use xlink:href=\"#Helvetica-31\" x=\"83.398438\"/>\n       <use xlink:href=\"#Helvetica-30\" x=\"139.013672\"/>\n      </g>\n     </g>\n    </g>\n    <g id=\"ytick_4\">\n     <g id=\"line2d_19\">\n      <path d=\"M 46.91875 105.694582 \nL 325.91875 105.694582 \n\" clip-path=\"url(#p3964090283)\" style=\"fill: none; stroke-dasharray: 2.96,1.28; stroke-dashoffset: 0; stroke: #b0b0b0; stroke-width: 0.8\"/>\n     </g>\n     <g id=\"line2d_20\">\n      <g>\n       <use xlink:href=\"#ma5118edca6\" x=\"46.91875\" y=\"105.694582\" style=\"stroke: #000000; stroke-width: 0.8\"/>\n      </g>\n     </g>\n     <g id=\"text_11\">\n      <!-- 0.15 -->\n      <g transform=\"translate(20.457813 109.2813)scale(0.1 -0.1)\">\n       <use xlink:href=\"#Helvetica-30\"/>\n       <use xlink:href=\"#Helvetica-2e\" x=\"55.615234\"/>\n       <use xlink:href=\"#Helvetica-31\" x=\"83.398438\"/>\n       <use xlink:href=\"#Helvetica-35\" x=\"139.013672\"/>\n      </g>\n     </g>\n    </g>\n    <g id=\"ytick_5\">\n     <g id=\"line2d_21\">\n      <path d=\"M 46.91875 77.856307 \nL 325.91875 77.856307 \n\" clip-path=\"url(#p3964090283)\" style=\"fill: none; stroke-dasharray: 2.96,1.28; stroke-dashoffset: 0; stroke: #b0b0b0; stroke-width: 0.8\"/>\n     </g>\n     <g id=\"line2d_22\">\n      <g>\n       <use xlink:href=\"#ma5118edca6\" x=\"46.91875\" y=\"77.856307\" style=\"stroke: #000000; stroke-width: 0.8\"/>\n      </g>\n     </g>\n     <g id=\"text_12\">\n      <!-- 0.20 -->\n      <g transform=\"translate(20.457813 81.443026)scale(0.1 -0.1)\">\n       <use xlink:href=\"#Helvetica-30\"/>\n       <use xlink:href=\"#Helvetica-2e\" x=\"55.615234\"/>\n       <use xlink:href=\"#Helvetica-32\" x=\"83.398438\"/>\n       <use xlink:href=\"#Helvetica-30\" x=\"139.013672\"/>\n      </g>\n     </g>\n    </g>\n    <g id=\"ytick_6\">\n     <g id=\"line2d_23\">\n      <path d=\"M 46.91875 50.018032 \nL 325.91875 50.018032 \n\" clip-path=\"url(#p3964090283)\" style=\"fill: none; stroke-dasharray: 2.96,1.28; stroke-dashoffset: 0; stroke: #b0b0b0; stroke-width: 0.8\"/>\n     </g>\n     <g id=\"line2d_24\">\n      <g>\n       <use xlink:href=\"#ma5118edca6\" x=\"46.91875\" y=\"50.018032\" style=\"stroke: #000000; stroke-width: 0.8\"/>\n      </g>\n     </g>\n     <g id=\"text_13\">\n      <!-- 0.25 -->\n      <g transform=\"translate(20.457813 53.604751)scale(0.1 -0.1)\">\n       <use xlink:href=\"#Helvetica-30\"/>\n       <use xlink:href=\"#Helvetica-2e\" x=\"55.615234\"/>\n       <use xlink:href=\"#Helvetica-32\" x=\"83.398438\"/>\n       <use xlink:href=\"#Helvetica-35\" x=\"139.013672\"/>\n      </g>\n     </g>\n    </g>\n    <g id=\"ytick_7\">\n     <g id=\"line2d_25\">\n      <path d=\"M 46.91875 22.179757 \nL 325.91875 22.179757 \n\" clip-path=\"url(#p3964090283)\" style=\"fill: none; stroke-dasharray: 2.96,1.28; stroke-dashoffset: 0; stroke: #b0b0b0; stroke-width: 0.8\"/>\n     </g>\n     <g id=\"line2d_26\">\n      <g>\n       <use xlink:href=\"#ma5118edca6\" x=\"46.91875\" y=\"22.179757\" style=\"stroke: #000000; stroke-width: 0.8\"/>\n      </g>\n     </g>\n     <g id=\"text_14\">\n      <!-- 0.30 -->\n      <g transform=\"translate(20.457813 25.766476)scale(0.1 -0.1)\">\n       <defs>\n        <path id=\"Helvetica-33\" d=\"M 1663 -122 \nQ 869 -122 511 314 \nQ 153 750 153 1375 \nL 741 1375 \nQ 778 941 903 744 \nQ 1122 391 1694 391 \nQ 2138 391 2406 628 \nQ 2675 866 2675 1241 \nQ 2675 1703 2392 1887 \nQ 2109 2072 1606 2072 \nQ 1550 2072 1492 2070 \nQ 1434 2069 1375 2066 \nL 1375 2563 \nQ 1463 2553 1522 2550 \nQ 1581 2547 1650 2547 \nQ 1966 2547 2169 2647 \nQ 2525 2822 2525 3272 \nQ 2525 3606 2287 3787 \nQ 2050 3969 1734 3969 \nQ 1172 3969 956 3594 \nQ 838 3388 822 3006 \nL 266 3006 \nQ 266 3506 466 3856 \nQ 809 4481 1675 4481 \nQ 2359 4481 2734 4176 \nQ 3109 3872 3109 3294 \nQ 3109 2881 2888 2625 \nQ 2750 2466 2531 2375 \nQ 2884 2278 3082 2001 \nQ 3281 1725 3281 1325 \nQ 3281 684 2859 281 \nQ 2438 -122 1663 -122 \nz\n\" transform=\"scale(0.015625)\"/>\n       </defs>\n       <use xlink:href=\"#Helvetica-30\"/>\n       <use xlink:href=\"#Helvetica-2e\" x=\"55.615234\"/>\n       <use xlink:href=\"#Helvetica-33\" x=\"83.398438\"/>\n       <use xlink:href=\"#Helvetica-30\" x=\"139.013672\"/>\n      </g>\n     </g>\n    </g>\n    <g id=\"text_15\">\n     <!-- Cost -->\n     <g transform=\"translate(14.373438 112.610469)rotate(-90)scale(0.1 -0.1)\">\n      <defs>\n       <path id=\"Helvetica-43\" d=\"M 2422 4716 \nQ 3294 4716 3775 4256 \nQ 4256 3797 4309 3213 \nL 3703 3213 \nQ 3600 3656 3292 3915 \nQ 2984 4175 2428 4175 \nQ 1750 4175 1333 3698 \nQ 916 3222 916 2238 \nQ 916 1431 1292 929 \nQ 1669 428 2416 428 \nQ 3103 428 3463 956 \nQ 3653 1234 3747 1688 \nL 4353 1688 \nQ 4272 963 3816 472 \nQ 3269 -119 2341 -119 \nQ 1541 -119 997 366 \nQ 281 1006 281 2344 \nQ 281 3359 819 4009 \nQ 1400 4716 2422 4716 \nz\nM 2297 4716 \nL 2297 4716 \nz\n\" transform=\"scale(0.015625)\"/>\n       <path id=\"Helvetica-73\" d=\"M 747 1050 \nQ 772 769 888 619 \nQ 1100 347 1625 347 \nQ 1938 347 2175 483 \nQ 2413 619 2413 903 \nQ 2413 1119 2222 1231 \nQ 2100 1300 1741 1391 \nL 1294 1503 \nQ 866 1609 663 1741 \nQ 300 1969 300 2372 \nQ 300 2847 642 3140 \nQ 984 3434 1563 3434 \nQ 2319 3434 2653 2991 \nQ 2863 2709 2856 2384 \nL 2325 2384 \nQ 2309 2575 2191 2731 \nQ 1997 2953 1519 2953 \nQ 1200 2953 1036 2831 \nQ 872 2709 872 2509 \nQ 872 2291 1088 2159 \nQ 1213 2081 1456 2022 \nL 1828 1931 \nQ 2434 1784 2641 1647 \nQ 2969 1431 2969 969 \nQ 2969 522 2630 197 \nQ 2291 -128 1597 -128 \nQ 850 -128 539 211 \nQ 228 550 206 1050 \nL 747 1050 \nz\nM 1578 3428 \nL 1578 3428 \nz\n\" transform=\"scale(0.015625)\"/>\n       <path id=\"Helvetica-74\" d=\"M 525 4281 \nL 1094 4281 \nL 1094 3347 \nL 1628 3347 \nL 1628 2888 \nL 1094 2888 \nL 1094 703 \nQ 1094 528 1213 469 \nQ 1278 434 1431 434 \nQ 1472 434 1519 436 \nQ 1566 438 1628 444 \nL 1628 0 \nQ 1531 -28 1426 -40 \nQ 1322 -53 1200 -53 \nQ 806 -53 665 148 \nQ 525 350 525 672 \nL 525 2888 \nL 72 2888 \nL 72 3347 \nL 525 3347 \nL 525 4281 \nz\n\" transform=\"scale(0.015625)\"/>\n      </defs>\n      <use xlink:href=\"#Helvetica-43\"/>\n      <use xlink:href=\"#Helvetica-6f\" x=\"72.216797\"/>\n      <use xlink:href=\"#Helvetica-73\" x=\"127.832031\"/>\n      <use xlink:href=\"#Helvetica-74\" x=\"177.832031\"/>\n     </g>\n    </g>\n   </g>\n   <g id=\"line2d_27\">\n    <path d=\"M 46.91875 15.848182 \nL 49.15075 69.976252 \nL 49.98775 86.230255 \nL 50.82475 99.046158 \nL 51.66175 108.96574 \nL 52.49875 116.770147 \nL 53.61475 124.974814 \nL 54.73075 131.534232 \nL 56.12575 138.218101 \nL 57.52075 143.717998 \nL 58.91575 148.336148 \nL 60.31075 152.2632 \nL 61.98475 156.250862 \nL 63.65875 159.608041 \nL 65.33275 162.4626 \nL 67.00675 164.911521 \nL 68.95975 167.354386 \nL 70.91275 169.436313 \nL 73.14475 171.460644 \nL 75.37675 173.179535 \nL 77.88775 174.820131 \nL 80.67775 176.351528 \nL 83.74675 177.755271 \nL 87.09475 179.023187 \nL 90.72175 180.155056 \nL 94.90675 181.220693 \nL 99.64975 182.192668 \nL 105.22975 183.099049 \nL 111.64675 183.912412 \nL 119.45875 184.670786 \nL 128.94475 185.359389 \nL 140.66275 185.980409 \nL 155.72875 186.545965 \nL 175.53775 187.053307 \nL 202.32175 187.501796 \nL 239.98675 187.893584 \nL 295.22875 188.228902 \nL 326.19775 188.352565 \nL 326.19775 188.352565 \n\" clip-path=\"url(#p3964090283)\" style=\"fill: none; stroke: #4169e1; stroke-width: 1.5; stroke-linecap: square\"/>\n   </g>\n   <g id=\"patch_3\">\n    <path d=\"M 46.91875 197.46 \nL 46.91875 7.2 \n\" style=\"fill: none; stroke: #000000; stroke-width: 0.8; stroke-linejoin: miter; stroke-linecap: square\"/>\n   </g>\n   <g id=\"patch_4\">\n    <path d=\"M 325.91875 197.46 \nL 325.91875 7.2 \n\" style=\"fill: none; stroke: #000000; stroke-width: 0.8; stroke-linejoin: miter; stroke-linecap: square\"/>\n   </g>\n   <g id=\"patch_5\">\n    <path d=\"M 46.91875 197.46 \nL 325.91875 197.46 \n\" style=\"fill: none; stroke: #000000; stroke-width: 0.8; stroke-linejoin: miter; stroke-linecap: square\"/>\n   </g>\n   <g id=\"patch_6\">\n    <path d=\"M 46.91875 7.2 \nL 325.91875 7.2 \n\" style=\"fill: none; stroke: #000000; stroke-width: 0.8; stroke-linejoin: miter; stroke-linecap: square\"/>\n   </g>\n   <g id=\"legend_1\">\n    <g id=\"patch_7\">\n     <path d=\"M 233.5625 29.585938 \nL 318.91875 29.585938 \nQ 320.91875 29.585938 320.91875 27.585938 \nL 320.91875 14.2 \nQ 320.91875 12.2 318.91875 12.2 \nL 233.5625 12.2 \nQ 231.5625 12.2 231.5625 14.2 \nL 231.5625 27.585938 \nQ 231.5625 29.585938 233.5625 29.585938 \nz\n\" style=\"fill: #ffffff; opacity: 0.8; stroke: #cccccc; stroke-linejoin: miter\"/>\n    </g>\n    <g id=\"line2d_28\">\n     <path d=\"M 235.5625 19.873437 \nL 245.5625 19.873437 \nL 255.5625 19.873437 \n\" style=\"fill: none; stroke: #4169e1; stroke-width: 1.5; stroke-linecap: square\"/>\n    </g>\n    <g id=\"text_16\">\n     <!-- training loss -->\n     <g transform=\"translate(263.5625 23.373437)scale(0.1 -0.1)\">\n      <defs>\n       <path id=\"Helvetica-72\" d=\"M 428 3347 \nL 963 3347 \nL 963 2769 \nQ 1028 2938 1284 3180 \nQ 1541 3422 1875 3422 \nQ 1891 3422 1928 3419 \nQ 1966 3416 2056 3406 \nL 2056 2813 \nQ 2006 2822 1964 2825 \nQ 1922 2828 1872 2828 \nQ 1447 2828 1219 2554 \nQ 991 2281 991 1925 \nL 991 0 \nL 428 0 \nL 428 3347 \nz\n\" transform=\"scale(0.015625)\"/>\n       <path id=\"Helvetica-61\" d=\"M 844 891 \nQ 844 647 1022 506 \nQ 1200 366 1444 366 \nQ 1741 366 2019 503 \nQ 2488 731 2488 1250 \nL 2488 1703 \nQ 2384 1638 2221 1594 \nQ 2059 1550 1903 1531 \nL 1563 1488 \nQ 1256 1447 1103 1359 \nQ 844 1213 844 891 \nz\nM 2206 2028 \nQ 2400 2053 2466 2191 \nQ 2503 2266 2503 2406 \nQ 2503 2694 2298 2823 \nQ 2094 2953 1713 2953 \nQ 1272 2953 1088 2716 \nQ 984 2584 953 2325 \nL 428 2325 \nQ 444 2944 830 3186 \nQ 1216 3428 1725 3428 \nQ 2316 3428 2684 3203 \nQ 3050 2978 3050 2503 \nL 3050 575 \nQ 3050 488 3086 434 \nQ 3122 381 3238 381 \nQ 3275 381 3322 386 \nQ 3369 391 3422 400 \nL 3422 -16 \nQ 3291 -53 3222 -62 \nQ 3153 -72 3034 -72 \nQ 2744 -72 2613 134 \nQ 2544 244 2516 444 \nQ 2344 219 2022 53 \nQ 1700 -113 1313 -113 \nQ 847 -113 551 170 \nQ 256 453 256 878 \nQ 256 1344 547 1600 \nQ 838 1856 1309 1916 \nL 2206 2028 \nz\nM 1741 3428 \nL 1741 3428 \nz\n\" transform=\"scale(0.015625)\"/>\n       <path id=\"Helvetica-69\" d=\"M 413 3331 \nL 984 3331 \nL 984 0 \nL 413 0 \nL 413 3331 \nz\nM 413 4591 \nL 984 4591 \nL 984 3953 \nL 413 3953 \nL 413 4591 \nz\n\" transform=\"scale(0.015625)\"/>\n       <path id=\"Helvetica-6e\" d=\"M 413 3347 \nL 947 3347 \nL 947 2872 \nQ 1184 3166 1450 3294 \nQ 1716 3422 2041 3422 \nQ 2753 3422 3003 2925 \nQ 3141 2653 3141 2147 \nL 3141 0 \nL 2569 0 \nL 2569 2109 \nQ 2569 2416 2478 2603 \nQ 2328 2916 1934 2916 \nQ 1734 2916 1606 2875 \nQ 1375 2806 1200 2600 \nQ 1059 2434 1017 2257 \nQ 975 2081 975 1753 \nL 975 0 \nL 413 0 \nL 413 3347 \nz\nM 1734 3428 \nL 1734 3428 \nz\n\" transform=\"scale(0.015625)\"/>\n       <path id=\"Helvetica-67\" d=\"M 1594 3406 \nQ 1988 3406 2281 3213 \nQ 2441 3103 2606 2894 \nL 2606 3316 \nL 3125 3316 \nL 3125 272 \nQ 3125 -366 2938 -734 \nQ 2588 -1416 1616 -1416 \nQ 1075 -1416 706 -1173 \nQ 338 -931 294 -416 \nL 866 -416 \nQ 906 -641 1028 -763 \nQ 1219 -950 1628 -950 \nQ 2275 -950 2475 -494 \nQ 2594 -225 2584 466 \nQ 2416 209 2178 84 \nQ 1941 -41 1550 -41 \nQ 1006 -41 598 345 \nQ 191 731 191 1622 \nQ 191 2463 602 2934 \nQ 1013 3406 1594 3406 \nz\nM 2606 1688 \nQ 2606 2309 2350 2609 \nQ 2094 2909 1697 2909 \nQ 1103 2909 884 2353 \nQ 769 2056 769 1575 \nQ 769 1009 998 714 \nQ 1228 419 1616 419 \nQ 2222 419 2469 966 \nQ 2606 1275 2606 1688 \nz\nM 1659 3428 \nL 1659 3428 \nz\n\" transform=\"scale(0.015625)\"/>\n       <path id=\"Helvetica-20\" transform=\"scale(0.015625)\"/>\n       <path id=\"Helvetica-6c\" d=\"M 428 4591 \nL 991 4591 \nL 991 0 \nL 428 0 \nL 428 4591 \nz\n\" transform=\"scale(0.015625)\"/>\n      </defs>\n      <use xlink:href=\"#Helvetica-74\"/>\n      <use xlink:href=\"#Helvetica-72\" x=\"27.783203\"/>\n      <use xlink:href=\"#Helvetica-61\" x=\"61.083984\"/>\n      <use xlink:href=\"#Helvetica-69\" x=\"116.699219\"/>\n      <use xlink:href=\"#Helvetica-6e\" x=\"138.916016\"/>\n      <use xlink:href=\"#Helvetica-69\" x=\"194.53125\"/>\n      <use xlink:href=\"#Helvetica-6e\" x=\"216.748047\"/>\n      <use xlink:href=\"#Helvetica-67\" x=\"272.363281\"/>\n      <use xlink:href=\"#Helvetica-20\" x=\"327.978516\"/>\n      <use xlink:href=\"#Helvetica-6c\" x=\"355.761719\"/>\n      <use xlink:href=\"#Helvetica-6f\" x=\"377.978516\"/>\n      <use xlink:href=\"#Helvetica-73\" x=\"433.59375\"/>\n      <use xlink:href=\"#Helvetica-73\" x=\"483.59375\"/>\n     </g>\n    </g>\n   </g>\n  </g>\n </g>\n <defs>\n  <clipPath id=\"p3964090283\">\n   <rect x=\"46.91875\" y=\"7.2\" width=\"279\" height=\"190.26\"/>\n  </clipPath>\n </defs>\n</svg>\n",
      "text/plain": [
       "<Figure size 360x252 with 1 Axes>"
      ]
     },
     "metadata": {
      "needs_background": "light"
     },
     "output_type": "display_data"
    }
   ],
   "source": [
    "loss_data = np.load('loss.npy')\n",
    "\n",
    "fig, ax = plt.subplots(figsize=(5, 3.5))\n",
    "ax.plot(loss_data[:, 0], loss_data[:, 1], color='royalblue',\n",
    "        linewidth=1.5, label='training loss')\n",
    "ax.set_xlabel('Epoch'), ax.set_ylabel('Cost')\n",
    "ax.set_xlim([0, epochs/2])\n",
    "ax.legend(loc=1)\n",
    "ax.grid(linestyle='--')\n"
   ]
  },
  {
   "cell_type": "code",
   "execution_count": 10,
   "metadata": {},
   "outputs": [
    {
     "name": "stdout",
     "output_type": "stream",
     "text": [
      "Emily: 0.027\n",
      "Frank: 0.027\n"
     ]
    }
   ],
   "source": [
    "# Make some predictions\n",
    "emily = np.array([100, -7]) # 235 pounds, 59 inches\n",
    "frank = np.array([20, 2])  # 155 pounds, 68 inches\n",
    "print(\"Emily: %.3f\" % network.feedforward(emily)) # 0.951 - F\n",
    "print(\"Frank: %.3f\" % network.feedforward(frank)) # 0.039 - M"
   ]
  }
 ],
 "metadata": {
  "interpreter": {
   "hash": "b732e3529683d70731ed66e95ac4feb8163f4ce8c724c43d002c076a20525e0f"
  },
  "kernelspec": {
   "display_name": "Python 3.9.7 ('deeplearning')",
   "language": "python",
   "name": "python3"
  },
  "language_info": {
   "codemirror_mode": {
    "name": "ipython",
    "version": 3
   },
   "file_extension": ".py",
   "mimetype": "text/x-python",
   "name": "python",
   "nbconvert_exporter": "python",
   "pygments_lexer": "ipython3",
   "version": "3.9.7"
  }
 },
 "nbformat": 4,
 "nbformat_minor": 2
}
